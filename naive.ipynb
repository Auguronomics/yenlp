{
 "metadata": {
  "name": "",
  "signature": "sha256:940fe2ea59024350a520796a504c41ceed41240a656f0b0dd14fd2527871bd67"
 },
 "nbformat": 3,
 "nbformat_minor": 0,
 "worksheets": [
  {
   "cells": [
    {
     "cell_type": "markdown",
     "metadata": {},
     "source": [
      "##extract_reviews.py"
     ]
    },
    {
     "cell_type": "code",
     "collapsed": false,
     "input": [
      "#Small script to get categories out of the business json\n",
      "#from Yelp Challenge dataset\n",
      "#It will be used to identify restaurant business ids that will \n",
      "#subsequently be used to extract restaurant related reviews\n",
      "import json\n",
      "\n",
      "business_fn = 'yelp_academic_dataset_business.json'\n",
      "reviews_fn = 'yelp_academic_dataset_review.json'\n",
      "template_fn = 'yelp_{category}_reviews_{quantity}_{classif}.json'\n",
      "\n",
      "\n",
      "def get_bussiness_ids(category):\n",
      "    with open(business_fn) as businesses:\n",
      "        business_ids = []\n",
      "        for business in businesses:\n",
      "            business = json.loads(business)\n",
      "            if category in business['categories']:\n",
      "                business_ids.append(business['business_id'])\n",
      "    return business_ids\n",
      "\n",
      "\n",
      "def save_reviews(category, quantity):\n",
      "    '''Saves the given number of reviews of a specific category to two files, \n",
      "    one for each class(pos/neg).'''\n",
      "    business_ids = get_bussiness_ids(category)\n",
      "    \n",
      "    pos_reviews = open(template_fn.format(category = category.lower(), \n",
      "                                          quantity = quantity, classif = 'pos'), 'w')\n",
      "    neg_reviews = open(template_fn.format(category = category.lower(), \n",
      "                                          quantity = quantity, classif = 'neg'), 'w')\n",
      "\n",
      "    cnt_pos = 0;\n",
      "    cnt_neg = 0;\n",
      "    with open(reviews_fn) as reviews:\n",
      "        for review in reviews:\n",
      "            # stop when quantity is reached\n",
      "            if (cnt_pos >= quantity and cnt_neg >= quantity):\n",
      "                return None\n",
      "            review = json.loads(review)\n",
      "            if review['business_id'] in business_ids:\n",
      "                #discard 3 star ratings\n",
      "                if int(review['stars']) > 3 and cnt_pos < quantity:\n",
      "                    json.dump(review, pos_reviews)\n",
      "                    pos_reviews.write('\\n')\n",
      "                    cnt_pos += 1\n",
      "                elif int(review['stars']) < 3 and cnt_neg < quantity:\n",
      "                    json.dump(review, neg_reviews)\n",
      "                    neg_reviews.write('\\n')\n",
      "                    cnt_neg += 1"
     ],
     "language": "python",
     "metadata": {},
     "outputs": [],
     "prompt_number": 30
    },
    {
     "cell_type": "markdown",
     "metadata": {},
     "source": [
      "##load_reviews.py"
     ]
    },
    {
     "cell_type": "code",
     "collapsed": false,
     "input": [
      "import json\n",
      "import re\n",
      "\n",
      "template_fn = 'yelp_{category}_reviews_{quantity}_{classif}.json'\n",
      "\n",
      "def word_class(words):\n",
      "    return dict([(word, True) for word in words])\n",
      "\n",
      "def load_words(category, quantity):\n",
      "    '''Reads a number of pre-extracted reviews for the given category and \n",
      "    returns two lists of pos/neg reviews.'''\n",
      "    pos_reviews = open(template_fn.format(category = category.lower(), \n",
      "                                       quantity = quantity, classif = 'pos'), 'r')\n",
      "    neg_reviews = open(template_fn.format(category = category.lower(), \n",
      "                                       quantity = quantity, classif = 'neg'), 'r')\n",
      "    pos_words = [(word_class(re.findall(r\"[\\w']+|[.,!?;-]\", json.loads(review)['text'])), 'pos') \n",
      "                for review in pos_reviews]\n",
      "    neg_words = [(word_class(re.findall(r\"[\\w']+|[.,!?;-]\", json.loads(review)['text'])), 'neg') \n",
      "                for review in neg_reviews]\n",
      "    return (pos_words, neg_words)\n",
      "\n",
      "def load_reviews(category, quantity):\n",
      "    '''Read a number of pre-extracted reviews for a certain category and \n",
      "    returns two lists of pos/neg reviews.'''"
     ],
     "language": "python",
     "metadata": {},
     "outputs": [],
     "prompt_number": 25
    },
    {
     "cell_type": "markdown",
     "metadata": {},
     "source": [
      "## naive_bayes.py"
     ]
    },
    {
     "cell_type": "code",
     "collapsed": false,
     "input": [
      "import nltk.classify.util\n",
      "from nltk.classify import NaiveBayesClassifier\n",
      " \n",
      "def naive_bayes(pos_samples, neg_samples, ratio):\n",
      "    '''Trains a naive bayes classifier with NLTK.\n",
      "    Input the positive and negative samples and a given train/test ratio.\n",
      "    Returns the classifier and the train/test sets.'''\n",
      "    neg_cutoff = int(len(neg_samples) * ratio)\n",
      "    pos_cutoff = int(len(pos_samples) * ratio)\n",
      "\n",
      "    train_samples = neg_samples[:neg_cutoff] + pos_samples[:pos_cutoff]\n",
      "    test_samples  = neg_samples[neg_cutoff:] + pos_samples[pos_cutoff:]\n",
      "    print 'train on %d instances, test on %d instances' % (len(train_samples), len(test_samples))\n",
      "\n",
      "    return (NaiveBayesClassifier.train(train_samples), train_samples, test_samples)\n",
      "\n",
      "def get_classifier_stats(classifier, test_samples):\n",
      "    '''Prints statistics of a NLTK classifier'''\n",
      "    print 'accuracy:', nltk.classify.util.accuracy(classifier, test_samples)\n",
      "    classifier.show_most_informative_features()\n",
      "    \n",
      "    import collections\n",
      "    refsets = collections.defaultdict(set)\n",
      "    testsets = collections.defaultdict(set)\n",
      "\n",
      "    for i, (feats, label) in enumerate(testfeats):\n",
      "        refsets[label].add(i)\n",
      "        observed = classifier.classify(feats)\n",
      "        testsets[observed].add(i)\n",
      "\n",
      "    print 'pos precision:', nltk.metrics.precision(refsets['pos'], testsets['pos'])\n",
      "    print 'pos recall:', nltk.metrics.recall(refsets['pos'], testsets['pos'])\n",
      "    print 'pos F-measure:', nltk.metrics.f_measure(refsets['pos'], testsets['pos'])\n",
      "    print 'neg precision:', nltk.metrics.precision(refsets['neg'], testsets['neg'])\n",
      "    print 'neg recall:', nltk.metrics.recall(refsets['neg'], testsets['neg'])\n",
      "    print 'neg F-measure:', nltk.metrics.f_measure(refsets['neg'], testsets['neg'])"
     ],
     "language": "python",
     "metadata": {},
     "outputs": [],
     "prompt_number": 49
    },
    {
     "cell_type": "markdown",
     "metadata": {},
     "source": [
      "##main"
     ]
    },
    {
     "cell_type": "code",
     "collapsed": false,
     "input": [
      "# save data\n",
      "category = 'Restaurants'\n",
      "quantity = 500\n",
      "save_reviews(category, quantity)"
     ],
     "language": "python",
     "metadata": {},
     "outputs": [],
     "prompt_number": 31
    },
    {
     "cell_type": "code",
     "collapsed": false,
     "input": [
      "# load data\n",
      "(pos_words, neg_words) = load_words(category, quantity)"
     ],
     "language": "python",
     "metadata": {},
     "outputs": [],
     "prompt_number": 32
    },
    {
     "cell_type": "code",
     "collapsed": false,
     "input": [
      "# train classifier\n",
      "(classifier, train_set, test_set) = naive_bayes_nltk(pos_words, neg_words, 3./4.)"
     ],
     "language": "python",
     "metadata": {},
     "outputs": [
      {
       "output_type": "stream",
       "stream": "stdout",
       "text": [
        "0.75\n",
        "train on 750 instances, test on 250 instances\n"
       ]
      }
     ],
     "prompt_number": 50
    },
    {
     "cell_type": "code",
     "collapsed": false,
     "input": [
      "# classifier statistics\n",
      "get_classifier_stats(classifier, test_set)"
     ],
     "language": "python",
     "metadata": {},
     "outputs": [
      {
       "output_type": "stream",
       "stream": "stdout",
       "text": [
        "accuracy: "
       ]
      },
      {
       "output_type": "stream",
       "stream": "stdout",
       "text": [
        "0.616\n",
        "Most Informative Features\n",
        "                   dirty = True              neg : pos    =     14.3 : 1.0"
       ]
      },
      {
       "output_type": "stream",
       "stream": "stdout",
       "text": [
        "\n",
        "                      ok = True              neg : pos    =     13.0 : 1.0\n",
        "                  waiter = True              neg : pos    =     12.3 : 1.0\n",
        "                   Maybe = True              neg : pos    =     12.3 : 1.0\n",
        "               perfectly = True              pos : neg    =     11.7 : 1.0\n",
        "               wonderful = True              pos : neg    =     11.0 : 1.0\n",
        "              understand = True              neg : pos    =     11.0 : 1.0\n",
        "                      15 = True              neg : pos    =     10.6 : 1.0\n",
        "                  needed = True              neg : pos    =     10.3 : 1.0\n",
        "                   short = True              neg : pos    =     10.3 : 1.0\n",
        "pos precision:"
       ]
      },
      {
       "output_type": "stream",
       "stream": "stdout",
       "text": [
        " 0.968876860622\n",
        "pos recall: 0.2864\n",
        "pos F-measure: 0.44211176289\n",
        "neg precision: 0.581318939216\n",
        "neg recall: 0.9908\n",
        "neg F-measure: 0.732731844402\n"
       ]
      }
     ],
     "prompt_number": 51
    },
    {
     "cell_type": "code",
     "collapsed": false,
     "input": [],
     "language": "python",
     "metadata": {},
     "outputs": []
    }
   ],
   "metadata": {}
  }
 ]
}